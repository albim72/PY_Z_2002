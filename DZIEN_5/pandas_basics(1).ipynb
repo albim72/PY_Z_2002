{
 "cells":[
  {
   "cell_type":"code",
   "source":[
    "import pandas as pd\n",
    "from pandas import Series, DataFrame\n",
    "import numpy as np\n",
    "import matplotlib.pyplot as plt"
   ],
   "execution_count":2,
   "outputs":[
    {
     "name":"stderr",
     "text":[
      "Matplotlib is building the font cache; this may take a moment.\n"
     ],
     "output_type":"stream"
    }
   ],
   "metadata":{
    "datalore":{
     "node_id":"WmJ31sJEdtsPnSNX8mI3hN",
     "type":"CODE",
     "hide_input_from_viewers":false,
     "hide_output_from_viewers":false
    }
   }
  },
  {
   "cell_type":"code",
   "source":[
    "obj = pd.Series([4,7,-9,3])\n",
    "obj"
   ],
   "execution_count":52,
   "outputs":[
    {
     "data":{
      "text\/html":[
       "<pre>0    4\n",
       "1    7\n",
       "2   -9\n",
       "3    3\n",
       "dtype: int64<\/pre>"
      ]
     },
     "metadata":{
      
     },
     "output_type":"display_data"
    }
   ],
   "metadata":{
    "datalore":{
     "node_id":"Yq56rJCqbvaiSf9D4PGCT6",
     "type":"CODE",
     "hide_input_from_viewers":false,
     "hide_output_from_viewers":false
    }
   }
  },
  {
   "cell_type":"code",
   "source":[
    "obj.values"
   ],
   "execution_count":53,
   "outputs":[
    {
     "data":{
      "text\/html":[
       "<pre>array([ 4,  7, -9,  3])<\/pre>"
      ]
     },
     "metadata":{
      
     },
     "output_type":"display_data"
    }
   ],
   "metadata":{
    "datalore":{
     "node_id":"nhTKllZr2Zt0XztC0vJxer",
     "type":"CODE",
     "hide_input_from_viewers":false,
     "hide_output_from_viewers":false
    }
   }
  },
  {
   "cell_type":"code",
   "source":[
    "obj.index"
   ],
   "execution_count":54,
   "outputs":[
    {
     "data":{
      "text\/plain":[
       "RangeIndex(start=0, stop=4, step=1)"
      ]
     },
     "metadata":{
      
     },
     "output_type":"display_data"
    }
   ],
   "metadata":{
    "datalore":{
     "node_id":"LMiVfCs8MV86guD0X4C6cv",
     "type":"CODE",
     "hide_input_from_viewers":false,
     "hide_output_from_viewers":false
    }
   }
  },
  {
   "cell_type":"code",
   "source":[
    "obj2 = pd.Series([45,6,8,9,12,34,6],index=['a','b','c','g','h','k','n'])\n",
    "obj2"
   ],
   "execution_count":3,
   "outputs":[
    {
     "data":{
      "text\/html":[
       "<pre>a    45\n",
       "b     6\n",
       "c     8\n",
       "g     9\n",
       "h    12\n",
       "k    34\n",
       "n     6\n",
       "dtype: int64<\/pre>"
      ]
     },
     "metadata":{
      
     },
     "output_type":"display_data"
    }
   ],
   "metadata":{
    "datalore":{
     "node_id":"fri4czuDxqzHQHH9Gr1Ff0",
     "type":"CODE",
     "hide_input_from_viewers":false,
     "hide_output_from_viewers":false
    }
   }
  },
  {
   "cell_type":"code",
   "source":[
    "obj2.index"
   ],
   "execution_count":56,
   "outputs":[
    {
     "data":{
      "text\/plain":[
       "Index(['a', 'b', 'c', 'g', 'h', 'k', 'n'], dtype='object')"
      ]
     },
     "metadata":{
      
     },
     "output_type":"display_data"
    }
   ],
   "metadata":{
    "datalore":{
     "node_id":"mTxSP0vhM9FCBpY9iyHimD",
     "type":"CODE",
     "hide_input_from_viewers":false,
     "hide_output_from_viewers":false
    }
   }
  },
  {
   "cell_type":"code",
   "source":[
    "obj2['k']"
   ],
   "execution_count":57,
   "outputs":[
    {
     "data":{
      "text\/plain":[
       "34"
      ]
     },
     "metadata":{
      
     },
     "output_type":"display_data"
    }
   ],
   "metadata":{
    "datalore":{
     "node_id":"vDxtj6uti58FEmujRqHut4",
     "type":"CODE",
     "hide_input_from_viewers":false,
     "hide_output_from_viewers":false
    }
   }
  },
  {
   "cell_type":"code",
   "source":[
    "obj2['a'] = 222\n",
    "obj2"
   ],
   "execution_count":58,
   "outputs":[
    {
     "data":{
      "text\/html":[
       "<pre>a    222\n",
       "b      6\n",
       "c      8\n",
       "g      9\n",
       "h     12\n",
       "k     34\n",
       "n      6\n",
       "dtype: int64<\/pre>"
      ]
     },
     "metadata":{
      
     },
     "output_type":"display_data"
    }
   ],
   "metadata":{
    "datalore":{
     "node_id":"FMRq5D0LDfZnHcdXNy2wbU",
     "type":"CODE",
     "hide_input_from_viewers":false,
     "hide_output_from_viewers":false
    }
   }
  },
  {
   "cell_type":"code",
   "source":[
    "obj2[obj2>10]"
   ],
   "execution_count":59,
   "outputs":[
    {
     "data":{
      "text\/html":[
       "<pre>a    222\n",
       "h     12\n",
       "k     34\n",
       "dtype: int64<\/pre>"
      ]
     },
     "metadata":{
      
     },
     "output_type":"display_data"
    }
   ],
   "metadata":{
    "datalore":{
     "node_id":"QPqCNCgsy0mCmkjXmfDmhl",
     "type":"CODE",
     "hide_input_from_viewers":false,
     "hide_output_from_viewers":false
    }
   }
  },
  {
   "cell_type":"code",
   "source":[
    "sdata = {'Warszawa':45120, 'Kraków':38970, 'Lublin':13450, 'Gdańsk':27890}\n",
    "obj3 = pd.Series(sdata)\n",
    "obj3"
   ],
   "execution_count":4,
   "outputs":[
    {
     "data":{
      "text\/html":[
       "<pre>Warszawa    45120\n",
       "Kraków      38970\n",
       "Lublin      13450\n",
       "Gdańsk      27890\n",
       "dtype: int64<\/pre>"
      ]
     },
     "metadata":{
      
     },
     "output_type":"display_data"
    }
   ],
   "metadata":{
    "datalore":{
     "node_id":"5mmMg3TBoCjbOG7YPxK2bG",
     "type":"CODE",
     "hide_input_from_viewers":false,
     "hide_output_from_viewers":false
    }
   }
  },
  {
   "cell_type":"code",
   "source":[
    "obj3.to_json(\"miasta.json\")\n",
    "obj3.to_csv(\"miasta.csv\")"
   ],
   "execution_count":6,
   "outputs":[
    
   ],
   "metadata":{
    "datalore":{
     "node_id":"y6EaEuA8jpSp9H2pbU9q5p",
     "type":"CODE",
     "hide_input_from_viewers":false,
     "hide_output_from_viewers":false
    }
   }
  },
  {
   "cell_type":"code",
   "source":[
    "miasta = ['Poznań','Kraków','Rzeszów','Lublin']\n",
    "obj4 = pd.Series(sdata,index=miasta)\n",
    "obj4"
   ],
   "execution_count":61,
   "outputs":[
    {
     "data":{
      "text\/html":[
       "<pre>Poznań         NaN\n",
       "Kraków     38970.0\n",
       "Rzeszów        NaN\n",
       "Lublin     13450.0\n",
       "dtype: float64<\/pre>"
      ]
     },
     "metadata":{
      
     },
     "output_type":"display_data"
    }
   ],
   "metadata":{
    "datalore":{
     "node_id":"nQG9VBuf51YsHVXj4nPQiy",
     "type":"CODE",
     "hide_input_from_viewers":false,
     "hide_output_from_viewers":false
    }
   }
  },
  {
   "cell_type":"code",
   "source":[
    "pd.isnull(obj4)"
   ],
   "execution_count":62,
   "outputs":[
    {
     "data":{
      "text\/html":[
       "<pre>Poznań      True\n",
       "Kraków     False\n",
       "Rzeszów     True\n",
       "Lublin     False\n",
       "dtype: bool<\/pre>"
      ]
     },
     "metadata":{
      
     },
     "output_type":"display_data"
    }
   ],
   "metadata":{
    "datalore":{
     "node_id":"ilR0QJbhz1yFrDAJHuNIWb",
     "type":"CODE",
     "hide_input_from_viewers":false,
     "hide_output_from_viewers":false
    }
   }
  },
  {
   "cell_type":"code",
   "source":[
    "obj3+obj4"
   ],
   "execution_count":63,
   "outputs":[
    {
     "data":{
      "text\/html":[
       "<pre>Gdańsk          NaN\n",
       "Kraków      77940.0\n",
       "Lublin      26900.0\n",
       "Poznań          NaN\n",
       "Rzeszów         NaN\n",
       "Warszawa        NaN\n",
       "dtype: float64<\/pre>"
      ]
     },
     "metadata":{
      
     },
     "output_type":"display_data"
    }
   ],
   "metadata":{
    "datalore":{
     "node_id":"1WyelonrdnCOPw3HpkLWjP",
     "type":"CODE",
     "hide_input_from_viewers":false,
     "hide_output_from_viewers":false
    }
   }
  },
  {
   "cell_type":"code",
   "source":[
    "obj4.name = 'liczba wniosków'\n",
    "obj4.index.name = 'miasta'\n",
    "obj4"
   ],
   "execution_count":64,
   "outputs":[
    {
     "data":{
      "text\/html":[
       "<pre>miasta\n",
       "Poznań         NaN\n",
       "Kraków     38970.0\n",
       "Rzeszów        NaN\n",
       "Lublin     13450.0\n",
       "Name: liczba wniosków, dtype: float64<\/pre>"
      ]
     },
     "metadata":{
      
     },
     "output_type":"display_data"
    }
   ],
   "metadata":{
    "datalore":{
     "node_id":"v9q3bvIQXqS4N1744GOT4N",
     "type":"CODE",
     "hide_input_from_viewers":false,
     "hide_output_from_viewers":false
    }
   }
  },
  {
   "cell_type":"code",
   "source":[
    "#obiekt DataFrame\n",
    "\n",
    "data = {'miasto':['Warszawa','Warszawa','Warszawa','Kraków','Kraków','Kraków'],\n",
    "        'rok':[2017,2018,2019,2018,2019,2020],\n",
    "        'pop':[2.7,2.75,3.05,0.85,0.9,1.01]}\n",
    "frame = pd.DataFrame(data)\n",
    "frame"
   ],
   "execution_count":65,
   "outputs":[
    {
     "data":{
      "text\/html":[
       "<div>\n",
       "<style scoped>\n",
       "    .dataframe tbody tr th:only-of-type {\n",
       "        vertical-align: middle;\n",
       "    }\n",
       "\n",
       "    .dataframe tbody tr th {\n",
       "        vertical-align: top;\n",
       "    }\n",
       "\n",
       "    .dataframe thead th {\n",
       "        text-align: right;\n",
       "    }\n",
       "<\/style>\n",
       "<table border=\"1\" class=\"dataframe\">\n",
       "  <thead>\n",
       "    <tr style=\"text-align: right;\">\n",
       "      <th><\/th>\n",
       "      <th>miasto<\/th>\n",
       "      <th>rok<\/th>\n",
       "      <th>pop<\/th>\n",
       "    <\/tr>\n",
       "  <\/thead>\n",
       "  <tbody>\n",
       "    <tr>\n",
       "      <th>0<\/th>\n",
       "      <td>Warszawa<\/td>\n",
       "      <td>2017<\/td>\n",
       "      <td>2.70<\/td>\n",
       "    <\/tr>\n",
       "    <tr>\n",
       "      <th>1<\/th>\n",
       "      <td>Warszawa<\/td>\n",
       "      <td>2018<\/td>\n",
       "      <td>2.75<\/td>\n",
       "    <\/tr>\n",
       "    <tr>\n",
       "      <th>2<\/th>\n",
       "      <td>Warszawa<\/td>\n",
       "      <td>2019<\/td>\n",
       "      <td>3.05<\/td>\n",
       "    <\/tr>\n",
       "    <tr>\n",
       "      <th>3<\/th>\n",
       "      <td>Kraków<\/td>\n",
       "      <td>2018<\/td>\n",
       "      <td>0.85<\/td>\n",
       "    <\/tr>\n",
       "    <tr>\n",
       "      <th>4<\/th>\n",
       "      <td>Kraków<\/td>\n",
       "      <td>2019<\/td>\n",
       "      <td>0.90<\/td>\n",
       "    <\/tr>\n",
       "    <tr>\n",
       "      <th>5<\/th>\n",
       "      <td>Kraków<\/td>\n",
       "      <td>2020<\/td>\n",
       "      <td>1.01<\/td>\n",
       "    <\/tr>\n",
       "  <\/tbody>\n",
       "<\/table>\n",
       "<\/div>"
      ]
     },
     "metadata":{
      
     },
     "output_type":"display_data"
    }
   ],
   "metadata":{
    "datalore":{
     "node_id":"RhEq8xyBcHXHfJdRT552e7",
     "type":"CODE",
     "hide_input_from_viewers":false,
     "hide_output_from_viewers":false
    }
   }
  },
  {
   "cell_type":"code",
   "source":[
    "frame2 = pd.DataFrame(data,columns=['rok','miasto','pop','wsp'],index=['jeden','dwa','trzy','cztery','pieć','sześć'])\n",
    "frame2"
   ],
   "execution_count":66,
   "outputs":[
    {
     "data":{
      "text\/html":[
       "<div>\n",
       "<style scoped>\n",
       "    .dataframe tbody tr th:only-of-type {\n",
       "        vertical-align: middle;\n",
       "    }\n",
       "\n",
       "    .dataframe tbody tr th {\n",
       "        vertical-align: top;\n",
       "    }\n",
       "\n",
       "    .dataframe thead th {\n",
       "        text-align: right;\n",
       "    }\n",
       "<\/style>\n",
       "<table border=\"1\" class=\"dataframe\">\n",
       "  <thead>\n",
       "    <tr style=\"text-align: right;\">\n",
       "      <th><\/th>\n",
       "      <th>rok<\/th>\n",
       "      <th>miasto<\/th>\n",
       "      <th>pop<\/th>\n",
       "      <th>wsp<\/th>\n",
       "    <\/tr>\n",
       "  <\/thead>\n",
       "  <tbody>\n",
       "    <tr>\n",
       "      <th>jeden<\/th>\n",
       "      <td>2017<\/td>\n",
       "      <td>Warszawa<\/td>\n",
       "      <td>2.70<\/td>\n",
       "      <td>NaN<\/td>\n",
       "    <\/tr>\n",
       "    <tr>\n",
       "      <th>dwa<\/th>\n",
       "      <td>2018<\/td>\n",
       "      <td>Warszawa<\/td>\n",
       "      <td>2.75<\/td>\n",
       "      <td>NaN<\/td>\n",
       "    <\/tr>\n",
       "    <tr>\n",
       "      <th>trzy<\/th>\n",
       "      <td>2019<\/td>\n",
       "      <td>Warszawa<\/td>\n",
       "      <td>3.05<\/td>\n",
       "      <td>NaN<\/td>\n",
       "    <\/tr>\n",
       "    <tr>\n",
       "      <th>cztery<\/th>\n",
       "      <td>2018<\/td>\n",
       "      <td>Kraków<\/td>\n",
       "      <td>0.85<\/td>\n",
       "      <td>NaN<\/td>\n",
       "    <\/tr>\n",
       "    <tr>\n",
       "      <th>pieć<\/th>\n",
       "      <td>2019<\/td>\n",
       "      <td>Kraków<\/td>\n",
       "      <td>0.90<\/td>\n",
       "      <td>NaN<\/td>\n",
       "    <\/tr>\n",
       "    <tr>\n",
       "      <th>sześć<\/th>\n",
       "      <td>2020<\/td>\n",
       "      <td>Kraków<\/td>\n",
       "      <td>1.01<\/td>\n",
       "      <td>NaN<\/td>\n",
       "    <\/tr>\n",
       "  <\/tbody>\n",
       "<\/table>\n",
       "<\/div>"
      ]
     },
     "metadata":{
      
     },
     "output_type":"display_data"
    }
   ],
   "metadata":{
    "datalore":{
     "node_id":"jyUTUArI87lLugeR9RgCUS",
     "type":"CODE",
     "hide_input_from_viewers":false,
     "hide_output_from_viewers":false
    }
   }
  },
  {
   "cell_type":"code",
   "source":[
    "frame2['miasto']"
   ],
   "execution_count":67,
   "outputs":[
    {
     "data":{
      "text\/html":[
       "<pre>jeden     Warszawa\n",
       "dwa       Warszawa\n",
       "trzy      Warszawa\n",
       "cztery      Kraków\n",
       "pieć        Kraków\n",
       "sześć       Kraków\n",
       "Name: miasto, dtype: object<\/pre>"
      ]
     },
     "metadata":{
      
     },
     "output_type":"display_data"
    }
   ],
   "metadata":{
    "datalore":{
     "node_id":"mM1VyvF3wcrGd0Z3Zv4Z5L",
     "type":"CODE",
     "hide_input_from_viewers":false,
     "hide_output_from_viewers":false
    }
   }
  },
  {
   "cell_type":"code",
   "source":[
    "frame2.rok"
   ],
   "execution_count":68,
   "outputs":[
    {
     "data":{
      "text\/html":[
       "<pre>jeden     2017\n",
       "dwa       2018\n",
       "trzy      2019\n",
       "cztery    2018\n",
       "pieć      2019\n",
       "sześć     2020\n",
       "Name: rok, dtype: int64<\/pre>"
      ]
     },
     "metadata":{
      
     },
     "output_type":"display_data"
    }
   ],
   "metadata":{
    "datalore":{
     "node_id":"XrNXTI98tboSwzi94vSMpz",
     "type":"CODE",
     "hide_input_from_viewers":false,
     "hide_output_from_viewers":false
    }
   }
  },
  {
   "cell_type":"code",
   "source":[
    "frame2['wsp']=19.9\n",
    "frame2"
   ],
   "execution_count":69,
   "outputs":[
    {
     "data":{
      "text\/html":[
       "<div>\n",
       "<style scoped>\n",
       "    .dataframe tbody tr th:only-of-type {\n",
       "        vertical-align: middle;\n",
       "    }\n",
       "\n",
       "    .dataframe tbody tr th {\n",
       "        vertical-align: top;\n",
       "    }\n",
       "\n",
       "    .dataframe thead th {\n",
       "        text-align: right;\n",
       "    }\n",
       "<\/style>\n",
       "<table border=\"1\" class=\"dataframe\">\n",
       "  <thead>\n",
       "    <tr style=\"text-align: right;\">\n",
       "      <th><\/th>\n",
       "      <th>rok<\/th>\n",
       "      <th>miasto<\/th>\n",
       "      <th>pop<\/th>\n",
       "      <th>wsp<\/th>\n",
       "    <\/tr>\n",
       "  <\/thead>\n",
       "  <tbody>\n",
       "    <tr>\n",
       "      <th>jeden<\/th>\n",
       "      <td>2017<\/td>\n",
       "      <td>Warszawa<\/td>\n",
       "      <td>2.70<\/td>\n",
       "      <td>19.9<\/td>\n",
       "    <\/tr>\n",
       "    <tr>\n",
       "      <th>dwa<\/th>\n",
       "      <td>2018<\/td>\n",
       "      <td>Warszawa<\/td>\n",
       "      <td>2.75<\/td>\n",
       "      <td>19.9<\/td>\n",
       "    <\/tr>\n",
       "    <tr>\n",
       "      <th>trzy<\/th>\n",
       "      <td>2019<\/td>\n",
       "      <td>Warszawa<\/td>\n",
       "      <td>3.05<\/td>\n",
       "      <td>19.9<\/td>\n",
       "    <\/tr>\n",
       "    <tr>\n",
       "      <th>cztery<\/th>\n",
       "      <td>2018<\/td>\n",
       "      <td>Kraków<\/td>\n",
       "      <td>0.85<\/td>\n",
       "      <td>19.9<\/td>\n",
       "    <\/tr>\n",
       "    <tr>\n",
       "      <th>pieć<\/th>\n",
       "      <td>2019<\/td>\n",
       "      <td>Kraków<\/td>\n",
       "      <td>0.90<\/td>\n",
       "      <td>19.9<\/td>\n",
       "    <\/tr>\n",
       "    <tr>\n",
       "      <th>sześć<\/th>\n",
       "      <td>2020<\/td>\n",
       "      <td>Kraków<\/td>\n",
       "      <td>1.01<\/td>\n",
       "      <td>19.9<\/td>\n",
       "    <\/tr>\n",
       "  <\/tbody>\n",
       "<\/table>\n",
       "<\/div>"
      ]
     },
     "metadata":{
      
     },
     "output_type":"display_data"
    }
   ],
   "metadata":{
    "datalore":{
     "node_id":"OM5vYAeBJlZl2ONXiBeIo3",
     "type":"CODE",
     "hide_input_from_viewers":false,
     "hide_output_from_viewers":false
    }
   }
  },
  {
   "cell_type":"code",
   "source":[
    "frame2['wsp']=np.arange(6.)\n",
    "frame2"
   ],
   "execution_count":70,
   "outputs":[
    {
     "data":{
      "text\/html":[
       "<div>\n",
       "<style scoped>\n",
       "    .dataframe tbody tr th:only-of-type {\n",
       "        vertical-align: middle;\n",
       "    }\n",
       "\n",
       "    .dataframe tbody tr th {\n",
       "        vertical-align: top;\n",
       "    }\n",
       "\n",
       "    .dataframe thead th {\n",
       "        text-align: right;\n",
       "    }\n",
       "<\/style>\n",
       "<table border=\"1\" class=\"dataframe\">\n",
       "  <thead>\n",
       "    <tr style=\"text-align: right;\">\n",
       "      <th><\/th>\n",
       "      <th>rok<\/th>\n",
       "      <th>miasto<\/th>\n",
       "      <th>pop<\/th>\n",
       "      <th>wsp<\/th>\n",
       "    <\/tr>\n",
       "  <\/thead>\n",
       "  <tbody>\n",
       "    <tr>\n",
       "      <th>jeden<\/th>\n",
       "      <td>2017<\/td>\n",
       "      <td>Warszawa<\/td>\n",
       "      <td>2.70<\/td>\n",
       "      <td>0.0<\/td>\n",
       "    <\/tr>\n",
       "    <tr>\n",
       "      <th>dwa<\/th>\n",
       "      <td>2018<\/td>\n",
       "      <td>Warszawa<\/td>\n",
       "      <td>2.75<\/td>\n",
       "      <td>1.0<\/td>\n",
       "    <\/tr>\n",
       "    <tr>\n",
       "      <th>trzy<\/th>\n",
       "      <td>2019<\/td>\n",
       "      <td>Warszawa<\/td>\n",
       "      <td>3.05<\/td>\n",
       "      <td>2.0<\/td>\n",
       "    <\/tr>\n",
       "    <tr>\n",
       "      <th>cztery<\/th>\n",
       "      <td>2018<\/td>\n",
       "      <td>Kraków<\/td>\n",
       "      <td>0.85<\/td>\n",
       "      <td>3.0<\/td>\n",
       "    <\/tr>\n",
       "    <tr>\n",
       "      <th>pieć<\/th>\n",
       "      <td>2019<\/td>\n",
       "      <td>Kraków<\/td>\n",
       "      <td>0.90<\/td>\n",
       "      <td>4.0<\/td>\n",
       "    <\/tr>\n",
       "    <tr>\n",
       "      <th>sześć<\/th>\n",
       "      <td>2020<\/td>\n",
       "      <td>Kraków<\/td>\n",
       "      <td>1.01<\/td>\n",
       "      <td>5.0<\/td>\n",
       "    <\/tr>\n",
       "  <\/tbody>\n",
       "<\/table>\n",
       "<\/div>"
      ]
     },
     "metadata":{
      
     },
     "output_type":"display_data"
    }
   ],
   "metadata":{
    "datalore":{
     "node_id":"7HNnuZq2DjLunPqizscEG1",
     "type":"CODE",
     "hide_input_from_viewers":false,
     "hide_output_from_viewers":false
    }
   }
  },
  {
   "cell_type":"code",
   "source":[
    "#przykład -> ramka z wykorzystaniem wygenerowanych dat\n",
    "\n",
    "daty = pd.date_range(\"20230129\",periods=6)\n",
    "daty"
   ],
   "execution_count":71,
   "outputs":[
    {
     "data":{
      "text\/plain":[
       "DatetimeIndex(['2023-01-29', '2023-01-30', '2023-01-31', '2023-02-01',\n",
       "               '2023-02-02', '2023-02-03'],\n",
       "              dtype='datetime64[ns]', freq='D')"
      ]
     },
     "metadata":{
      
     },
     "output_type":"display_data"
    }
   ],
   "metadata":{
    "datalore":{
     "node_id":"SneYB3BsUCwLnSnehAqhlV",
     "type":"CODE",
     "hide_input_from_viewers":false,
     "hide_output_from_viewers":false
    }
   }
  },
  {
   "cell_type":"code",
   "source":[
    "fr = pd.DataFrame(np.random.randn(6,4),index=daty, columns=list(\"ABCD\"))\n",
    "fr"
   ],
   "execution_count":72,
   "outputs":[
    {
     "data":{
      "text\/html":[
       "<div>\n",
       "<style scoped>\n",
       "    .dataframe tbody tr th:only-of-type {\n",
       "        vertical-align: middle;\n",
       "    }\n",
       "\n",
       "    .dataframe tbody tr th {\n",
       "        vertical-align: top;\n",
       "    }\n",
       "\n",
       "    .dataframe thead th {\n",
       "        text-align: right;\n",
       "    }\n",
       "<\/style>\n",
       "<table border=\"1\" class=\"dataframe\">\n",
       "  <thead>\n",
       "    <tr style=\"text-align: right;\">\n",
       "      <th><\/th>\n",
       "      <th>A<\/th>\n",
       "      <th>B<\/th>\n",
       "      <th>C<\/th>\n",
       "      <th>D<\/th>\n",
       "    <\/tr>\n",
       "  <\/thead>\n",
       "  <tbody>\n",
       "    <tr>\n",
       "      <th>2023-01-29<\/th>\n",
       "      <td>-1.438946<\/td>\n",
       "      <td>0.357447<\/td>\n",
       "      <td>-0.483227<\/td>\n",
       "      <td>1.301458<\/td>\n",
       "    <\/tr>\n",
       "    <tr>\n",
       "      <th>2023-01-30<\/th>\n",
       "      <td>0.114046<\/td>\n",
       "      <td>-0.121612<\/td>\n",
       "      <td>0.457315<\/td>\n",
       "      <td>0.767444<\/td>\n",
       "    <\/tr>\n",
       "    <tr>\n",
       "      <th>2023-01-31<\/th>\n",
       "      <td>0.384811<\/td>\n",
       "      <td>0.460551<\/td>\n",
       "      <td>-1.424844<\/td>\n",
       "      <td>-1.004211<\/td>\n",
       "    <\/tr>\n",
       "    <tr>\n",
       "      <th>2023-02-01<\/th>\n",
       "      <td>-0.037921<\/td>\n",
       "      <td>-0.569099<\/td>\n",
       "      <td>1.789535<\/td>\n",
       "      <td>-0.101336<\/td>\n",
       "    <\/tr>\n",
       "    <tr>\n",
       "      <th>2023-02-02<\/th>\n",
       "      <td>2.848124<\/td>\n",
       "      <td>0.263671<\/td>\n",
       "      <td>-0.561108<\/td>\n",
       "      <td>-0.053435<\/td>\n",
       "    <\/tr>\n",
       "    <tr>\n",
       "      <th>2023-02-03<\/th>\n",
       "      <td>0.886992<\/td>\n",
       "      <td>-1.200284<\/td>\n",
       "      <td>0.541599<\/td>\n",
       "      <td>0.120238<\/td>\n",
       "    <\/tr>\n",
       "  <\/tbody>\n",
       "<\/table>\n",
       "<\/div>"
      ]
     },
     "metadata":{
      
     },
     "output_type":"display_data"
    }
   ],
   "metadata":{
    "datalore":{
     "node_id":"R7JJUMC9ItRHCLUQ0mXuCR",
     "type":"CODE",
     "hide_input_from_viewers":false,
     "hide_output_from_viewers":false
    }
   }
  },
  {
   "cell_type":"code",
   "source":[
    "fr.head(3)"
   ],
   "execution_count":73,
   "outputs":[
    {
     "data":{
      "text\/html":[
       "<div>\n",
       "<style scoped>\n",
       "    .dataframe tbody tr th:only-of-type {\n",
       "        vertical-align: middle;\n",
       "    }\n",
       "\n",
       "    .dataframe tbody tr th {\n",
       "        vertical-align: top;\n",
       "    }\n",
       "\n",
       "    .dataframe thead th {\n",
       "        text-align: right;\n",
       "    }\n",
       "<\/style>\n",
       "<table border=\"1\" class=\"dataframe\">\n",
       "  <thead>\n",
       "    <tr style=\"text-align: right;\">\n",
       "      <th><\/th>\n",
       "      <th>A<\/th>\n",
       "      <th>B<\/th>\n",
       "      <th>C<\/th>\n",
       "      <th>D<\/th>\n",
       "    <\/tr>\n",
       "  <\/thead>\n",
       "  <tbody>\n",
       "    <tr>\n",
       "      <th>2023-01-29<\/th>\n",
       "      <td>-1.438946<\/td>\n",
       "      <td>0.357447<\/td>\n",
       "      <td>-0.483227<\/td>\n",
       "      <td>1.301458<\/td>\n",
       "    <\/tr>\n",
       "    <tr>\n",
       "      <th>2023-01-30<\/th>\n",
       "      <td>0.114046<\/td>\n",
       "      <td>-0.121612<\/td>\n",
       "      <td>0.457315<\/td>\n",
       "      <td>0.767444<\/td>\n",
       "    <\/tr>\n",
       "    <tr>\n",
       "      <th>2023-01-31<\/th>\n",
       "      <td>0.384811<\/td>\n",
       "      <td>0.460551<\/td>\n",
       "      <td>-1.424844<\/td>\n",
       "      <td>-1.004211<\/td>\n",
       "    <\/tr>\n",
       "  <\/tbody>\n",
       "<\/table>\n",
       "<\/div>"
      ]
     },
     "metadata":{
      
     },
     "output_type":"display_data"
    }
   ],
   "metadata":{
    "datalore":{
     "node_id":"JzNHn3ZbEhSIQ1ggEBgv1x",
     "type":"CODE",
     "hide_input_from_viewers":false,
     "hide_output_from_viewers":false
    }
   }
  },
  {
   "cell_type":"code",
   "source":[
    "fr.tail(2)"
   ],
   "execution_count":74,
   "outputs":[
    {
     "data":{
      "text\/html":[
       "<div>\n",
       "<style scoped>\n",
       "    .dataframe tbody tr th:only-of-type {\n",
       "        vertical-align: middle;\n",
       "    }\n",
       "\n",
       "    .dataframe tbody tr th {\n",
       "        vertical-align: top;\n",
       "    }\n",
       "\n",
       "    .dataframe thead th {\n",
       "        text-align: right;\n",
       "    }\n",
       "<\/style>\n",
       "<table border=\"1\" class=\"dataframe\">\n",
       "  <thead>\n",
       "    <tr style=\"text-align: right;\">\n",
       "      <th><\/th>\n",
       "      <th>A<\/th>\n",
       "      <th>B<\/th>\n",
       "      <th>C<\/th>\n",
       "      <th>D<\/th>\n",
       "    <\/tr>\n",
       "  <\/thead>\n",
       "  <tbody>\n",
       "    <tr>\n",
       "      <th>2023-02-02<\/th>\n",
       "      <td>2.848124<\/td>\n",
       "      <td>0.263671<\/td>\n",
       "      <td>-0.561108<\/td>\n",
       "      <td>-0.053435<\/td>\n",
       "    <\/tr>\n",
       "    <tr>\n",
       "      <th>2023-02-03<\/th>\n",
       "      <td>0.886992<\/td>\n",
       "      <td>-1.200284<\/td>\n",
       "      <td>0.541599<\/td>\n",
       "      <td>0.120238<\/td>\n",
       "    <\/tr>\n",
       "  <\/tbody>\n",
       "<\/table>\n",
       "<\/div>"
      ]
     },
     "metadata":{
      
     },
     "output_type":"display_data"
    }
   ],
   "metadata":{
    "datalore":{
     "node_id":"Xjx0WIIKpcaH3hy6BcyJ4f",
     "type":"CODE",
     "hide_input_from_viewers":false,
     "hide_output_from_viewers":false
    }
   }
  },
  {
   "cell_type":"code",
   "source":[
    "fr.to_numpy()"
   ],
   "execution_count":75,
   "outputs":[
    {
     "data":{
      "text\/html":[
       "<pre>array([[-1.43894569,  0.35744687, -0.48322653,  1.30145839],\n",
       "       [ 0.11404638, -0.12161201,  0.45731521,  0.76744352],\n",
       "       [ 0.38481125,  0.46055059, -1.42484416, -1.00421136],\n",
       "       [-0.03792053, -0.56909913,  1.78953485, -0.10133588],\n",
       "       [ 2.84812357,  0.26367086, -0.56110774, -0.0534352 ],\n",
       "       [ 0.88699224, -1.20028433,  0.54159904,  0.1202385 ]])<\/pre>"
      ]
     },
     "metadata":{
      
     },
     "output_type":"display_data"
    }
   ],
   "metadata":{
    "datalore":{
     "node_id":"3UYTxx6JXsJUyAXuJKcbos",
     "type":"CODE",
     "hide_input_from_viewers":false,
     "hide_output_from_viewers":false
    }
   }
  },
  {
   "cell_type":"code",
   "source":[
    "fr.describe()"
   ],
   "execution_count":76,
   "outputs":[
    {
     "data":{
      "text\/html":[
       "<div>\n",
       "<style scoped>\n",
       "    .dataframe tbody tr th:only-of-type {\n",
       "        vertical-align: middle;\n",
       "    }\n",
       "\n",
       "    .dataframe tbody tr th {\n",
       "        vertical-align: top;\n",
       "    }\n",
       "\n",
       "    .dataframe thead th {\n",
       "        text-align: right;\n",
       "    }\n",
       "<\/style>\n",
       "<table border=\"1\" class=\"dataframe\">\n",
       "  <thead>\n",
       "    <tr style=\"text-align: right;\">\n",
       "      <th><\/th>\n",
       "      <th>A<\/th>\n",
       "      <th>B<\/th>\n",
       "      <th>C<\/th>\n",
       "      <th>D<\/th>\n",
       "    <\/tr>\n",
       "  <\/thead>\n",
       "  <tbody>\n",
       "    <tr>\n",
       "      <th>count<\/th>\n",
       "      <td>6.000000<\/td>\n",
       "      <td>6.000000<\/td>\n",
       "      <td>6.000000<\/td>\n",
       "      <td>6.000000<\/td>\n",
       "    <\/tr>\n",
       "    <tr>\n",
       "      <th>mean<\/th>\n",
       "      <td>0.459518<\/td>\n",
       "      <td>-0.134888<\/td>\n",
       "      <td>0.053212<\/td>\n",
       "      <td>0.171693<\/td>\n",
       "    <\/tr>\n",
       "    <tr>\n",
       "      <th>std<\/th>\n",
       "      <td>1.404615<\/td>\n",
       "      <td>0.644915<\/td>\n",
       "      <td>1.119504<\/td>\n",
       "      <td>0.792706<\/td>\n",
       "    <\/tr>\n",
       "    <tr>\n",
       "      <th>min<\/th>\n",
       "      <td>-1.438946<\/td>\n",
       "      <td>-1.200284<\/td>\n",
       "      <td>-1.424844<\/td>\n",
       "      <td>-1.004211<\/td>\n",
       "    <\/tr>\n",
       "    <tr>\n",
       "      <th>25%<\/th>\n",
       "      <td>0.000071<\/td>\n",
       "      <td>-0.457227<\/td>\n",
       "      <td>-0.541637<\/td>\n",
       "      <td>-0.089361<\/td>\n",
       "    <\/tr>\n",
       "    <tr>\n",
       "      <th>50%<\/th>\n",
       "      <td>0.249429<\/td>\n",
       "      <td>0.071029<\/td>\n",
       "      <td>-0.012956<\/td>\n",
       "      <td>0.033402<\/td>\n",
       "    <\/tr>\n",
       "    <tr>\n",
       "      <th>75%<\/th>\n",
       "      <td>0.761447<\/td>\n",
       "      <td>0.334003<\/td>\n",
       "      <td>0.520528<\/td>\n",
       "      <td>0.605642<\/td>\n",
       "    <\/tr>\n",
       "    <tr>\n",
       "      <th>max<\/th>\n",
       "      <td>2.848124<\/td>\n",
       "      <td>0.460551<\/td>\n",
       "      <td>1.789535<\/td>\n",
       "      <td>1.301458<\/td>\n",
       "    <\/tr>\n",
       "  <\/tbody>\n",
       "<\/table>\n",
       "<\/div>"
      ]
     },
     "metadata":{
      
     },
     "output_type":"display_data"
    }
   ],
   "metadata":{
    "datalore":{
     "node_id":"MpYCpCYhskyNvlRl3NafAV",
     "type":"CODE",
     "hide_input_from_viewers":false,
     "hide_output_from_viewers":false
    }
   }
  },
  {
   "cell_type":"code",
   "source":[
    "fr.T"
   ],
   "execution_count":77,
   "outputs":[
    {
     "data":{
      "text\/html":[
       "<div>\n",
       "<style scoped>\n",
       "    .dataframe tbody tr th:only-of-type {\n",
       "        vertical-align: middle;\n",
       "    }\n",
       "\n",
       "    .dataframe tbody tr th {\n",
       "        vertical-align: top;\n",
       "    }\n",
       "\n",
       "    .dataframe thead th {\n",
       "        text-align: right;\n",
       "    }\n",
       "<\/style>\n",
       "<table border=\"1\" class=\"dataframe\">\n",
       "  <thead>\n",
       "    <tr style=\"text-align: right;\">\n",
       "      <th><\/th>\n",
       "      <th>2023-01-29<\/th>\n",
       "      <th>2023-01-30<\/th>\n",
       "      <th>2023-01-31<\/th>\n",
       "      <th>2023-02-01<\/th>\n",
       "      <th>2023-02-02<\/th>\n",
       "      <th>2023-02-03<\/th>\n",
       "    <\/tr>\n",
       "  <\/thead>\n",
       "  <tbody>\n",
       "    <tr>\n",
       "      <th>A<\/th>\n",
       "      <td>-1.438946<\/td>\n",
       "      <td>0.114046<\/td>\n",
       "      <td>0.384811<\/td>\n",
       "      <td>-0.037921<\/td>\n",
       "      <td>2.848124<\/td>\n",
       "      <td>0.886992<\/td>\n",
       "    <\/tr>\n",
       "    <tr>\n",
       "      <th>B<\/th>\n",
       "      <td>0.357447<\/td>\n",
       "      <td>-0.121612<\/td>\n",
       "      <td>0.460551<\/td>\n",
       "      <td>-0.569099<\/td>\n",
       "      <td>0.263671<\/td>\n",
       "      <td>-1.200284<\/td>\n",
       "    <\/tr>\n",
       "    <tr>\n",
       "      <th>C<\/th>\n",
       "      <td>-0.483227<\/td>\n",
       "      <td>0.457315<\/td>\n",
       "      <td>-1.424844<\/td>\n",
       "      <td>1.789535<\/td>\n",
       "      <td>-0.561108<\/td>\n",
       "      <td>0.541599<\/td>\n",
       "    <\/tr>\n",
       "    <tr>\n",
       "      <th>D<\/th>\n",
       "      <td>1.301458<\/td>\n",
       "      <td>0.767444<\/td>\n",
       "      <td>-1.004211<\/td>\n",
       "      <td>-0.101336<\/td>\n",
       "      <td>-0.053435<\/td>\n",
       "      <td>0.120238<\/td>\n",
       "    <\/tr>\n",
       "  <\/tbody>\n",
       "<\/table>\n",
       "<\/div>"
      ]
     },
     "metadata":{
      
     },
     "output_type":"display_data"
    }
   ],
   "metadata":{
    "datalore":{
     "node_id":"cNO615EGDkSF35HDviopSx",
     "type":"CODE",
     "hide_input_from_viewers":false,
     "hide_output_from_viewers":false
    }
   }
  },
  {
   "cell_type":"code",
   "source":[
    "fr.sort_index(axis=1, ascending=False)"
   ],
   "execution_count":78,
   "outputs":[
    {
     "data":{
      "text\/html":[
       "<div>\n",
       "<style scoped>\n",
       "    .dataframe tbody tr th:only-of-type {\n",
       "        vertical-align: middle;\n",
       "    }\n",
       "\n",
       "    .dataframe tbody tr th {\n",
       "        vertical-align: top;\n",
       "    }\n",
       "\n",
       "    .dataframe thead th {\n",
       "        text-align: right;\n",
       "    }\n",
       "<\/style>\n",
       "<table border=\"1\" class=\"dataframe\">\n",
       "  <thead>\n",
       "    <tr style=\"text-align: right;\">\n",
       "      <th><\/th>\n",
       "      <th>D<\/th>\n",
       "      <th>C<\/th>\n",
       "      <th>B<\/th>\n",
       "      <th>A<\/th>\n",
       "    <\/tr>\n",
       "  <\/thead>\n",
       "  <tbody>\n",
       "    <tr>\n",
       "      <th>2023-01-29<\/th>\n",
       "      <td>1.301458<\/td>\n",
       "      <td>-0.483227<\/td>\n",
       "      <td>0.357447<\/td>\n",
       "      <td>-1.438946<\/td>\n",
       "    <\/tr>\n",
       "    <tr>\n",
       "      <th>2023-01-30<\/th>\n",
       "      <td>0.767444<\/td>\n",
       "      <td>0.457315<\/td>\n",
       "      <td>-0.121612<\/td>\n",
       "      <td>0.114046<\/td>\n",
       "    <\/tr>\n",
       "    <tr>\n",
       "      <th>2023-01-31<\/th>\n",
       "      <td>-1.004211<\/td>\n",
       "      <td>-1.424844<\/td>\n",
       "      <td>0.460551<\/td>\n",
       "      <td>0.384811<\/td>\n",
       "    <\/tr>\n",
       "    <tr>\n",
       "      <th>2023-02-01<\/th>\n",
       "      <td>-0.101336<\/td>\n",
       "      <td>1.789535<\/td>\n",
       "      <td>-0.569099<\/td>\n",
       "      <td>-0.037921<\/td>\n",
       "    <\/tr>\n",
       "    <tr>\n",
       "      <th>2023-02-02<\/th>\n",
       "      <td>-0.053435<\/td>\n",
       "      <td>-0.561108<\/td>\n",
       "      <td>0.263671<\/td>\n",
       "      <td>2.848124<\/td>\n",
       "    <\/tr>\n",
       "    <tr>\n",
       "      <th>2023-02-03<\/th>\n",
       "      <td>0.120238<\/td>\n",
       "      <td>0.541599<\/td>\n",
       "      <td>-1.200284<\/td>\n",
       "      <td>0.886992<\/td>\n",
       "    <\/tr>\n",
       "  <\/tbody>\n",
       "<\/table>\n",
       "<\/div>"
      ]
     },
     "metadata":{
      
     },
     "output_type":"display_data"
    }
   ],
   "metadata":{
    "datalore":{
     "node_id":"bDcg4h8I184JvhDPZUwzpP",
     "type":"CODE",
     "hide_input_from_viewers":false,
     "hide_output_from_viewers":false
    }
   }
  },
  {
   "cell_type":"code",
   "source":[
    "fr.sort_values(by=\"B\")"
   ],
   "execution_count":79,
   "outputs":[
    {
     "data":{
      "text\/html":[
       "<div>\n",
       "<style scoped>\n",
       "    .dataframe tbody tr th:only-of-type {\n",
       "        vertical-align: middle;\n",
       "    }\n",
       "\n",
       "    .dataframe tbody tr th {\n",
       "        vertical-align: top;\n",
       "    }\n",
       "\n",
       "    .dataframe thead th {\n",
       "        text-align: right;\n",
       "    }\n",
       "<\/style>\n",
       "<table border=\"1\" class=\"dataframe\">\n",
       "  <thead>\n",
       "    <tr style=\"text-align: right;\">\n",
       "      <th><\/th>\n",
       "      <th>A<\/th>\n",
       "      <th>B<\/th>\n",
       "      <th>C<\/th>\n",
       "      <th>D<\/th>\n",
       "    <\/tr>\n",
       "  <\/thead>\n",
       "  <tbody>\n",
       "    <tr>\n",
       "      <th>2023-02-03<\/th>\n",
       "      <td>0.886992<\/td>\n",
       "      <td>-1.200284<\/td>\n",
       "      <td>0.541599<\/td>\n",
       "      <td>0.120238<\/td>\n",
       "    <\/tr>\n",
       "    <tr>\n",
       "      <th>2023-02-01<\/th>\n",
       "      <td>-0.037921<\/td>\n",
       "      <td>-0.569099<\/td>\n",
       "      <td>1.789535<\/td>\n",
       "      <td>-0.101336<\/td>\n",
       "    <\/tr>\n",
       "    <tr>\n",
       "      <th>2023-01-30<\/th>\n",
       "      <td>0.114046<\/td>\n",
       "      <td>-0.121612<\/td>\n",
       "      <td>0.457315<\/td>\n",
       "      <td>0.767444<\/td>\n",
       "    <\/tr>\n",
       "    <tr>\n",
       "      <th>2023-02-02<\/th>\n",
       "      <td>2.848124<\/td>\n",
       "      <td>0.263671<\/td>\n",
       "      <td>-0.561108<\/td>\n",
       "      <td>-0.053435<\/td>\n",
       "    <\/tr>\n",
       "    <tr>\n",
       "      <th>2023-01-29<\/th>\n",
       "      <td>-1.438946<\/td>\n",
       "      <td>0.357447<\/td>\n",
       "      <td>-0.483227<\/td>\n",
       "      <td>1.301458<\/td>\n",
       "    <\/tr>\n",
       "    <tr>\n",
       "      <th>2023-01-31<\/th>\n",
       "      <td>0.384811<\/td>\n",
       "      <td>0.460551<\/td>\n",
       "      <td>-1.424844<\/td>\n",
       "      <td>-1.004211<\/td>\n",
       "    <\/tr>\n",
       "  <\/tbody>\n",
       "<\/table>\n",
       "<\/div>"
      ]
     },
     "metadata":{
      
     },
     "output_type":"display_data"
    }
   ],
   "metadata":{
    "datalore":{
     "node_id":"euj7IOt1JoO4YiRGtQ7lGx",
     "type":"CODE",
     "hide_input_from_viewers":false,
     "hide_output_from_viewers":false
    }
   }
  },
  {
   "cell_type":"code",
   "source":[
    "#podatwowe funkcjonalności\n",
    "\n",
    "obj = pd.Series([4.5,7.2,-5.6,5],index=['d','a','w','h'])\n",
    "obj"
   ],
   "execution_count":80,
   "outputs":[
    {
     "data":{
      "text\/html":[
       "<pre>d    4.5\n",
       "a    7.2\n",
       "w   -5.6\n",
       "h    5.0\n",
       "dtype: float64<\/pre>"
      ]
     },
     "metadata":{
      
     },
     "output_type":"display_data"
    }
   ],
   "metadata":{
    "datalore":{
     "node_id":"T1e6A4SqF7PMcFVaB7SPfk",
     "type":"CODE",
     "hide_input_from_viewers":false,
     "hide_output_from_viewers":false
    }
   }
  },
  {
   "cell_type":"code",
   "source":[
    "obj2 = obj.reindex(['a','w','h','d','q'])\n",
    "obj2"
   ],
   "execution_count":81,
   "outputs":[
    {
     "data":{
      "text\/html":[
       "<pre>a    7.2\n",
       "w   -5.6\n",
       "h    5.0\n",
       "d    4.5\n",
       "q    NaN\n",
       "dtype: float64<\/pre>"
      ]
     },
     "metadata":{
      
     },
     "output_type":"display_data"
    }
   ],
   "metadata":{
    "datalore":{
     "node_id":"bd3GmnGxZ0rFOb7WiDEO63",
     "type":"CODE",
     "hide_input_from_viewers":false,
     "hide_output_from_viewers":false
    }
   }
  },
  {
   "cell_type":"code",
   "source":[
    "obj3 = pd.Series(['blue','yellow','purple'],index=[0,2,4])\n",
    "obj3"
   ],
   "execution_count":82,
   "outputs":[
    {
     "data":{
      "text\/html":[
       "<pre>0      blue\n",
       "2    yellow\n",
       "4    purple\n",
       "dtype: object<\/pre>"
      ]
     },
     "metadata":{
      
     },
     "output_type":"display_data"
    }
   ],
   "metadata":{
    "datalore":{
     "node_id":"BayI73XCR9J3vTfQV0Dsja",
     "type":"CODE",
     "hide_input_from_viewers":false,
     "hide_output_from_viewers":false
    }
   }
  },
  {
   "cell_type":"code",
   "source":[
    "obj3.reindex(range(6),method='ffill')"
   ],
   "execution_count":83,
   "outputs":[
    {
     "data":{
      "text\/html":[
       "<pre>0      blue\n",
       "1      blue\n",
       "2    yellow\n",
       "3    yellow\n",
       "4    purple\n",
       "5    purple\n",
       "dtype: object<\/pre>"
      ]
     },
     "metadata":{
      
     },
     "output_type":"display_data"
    }
   ],
   "metadata":{
    "datalore":{
     "node_id":"eU8vhpFbFxCmZ08jCHilk1",
     "type":"CODE",
     "hide_input_from_viewers":false,
     "hide_output_from_viewers":false
    }
   }
  },
  {
   "cell_type":"code",
   "source":[
    "data = pd.DataFrame(np.arange(16).reshape((4,4)),\n",
    "                    index=['Kraków','Warszawa','Lublin','Katowice'],\n",
    "                    columns=['cecha_1','cecha_2','cecha_3','cecha_4'])\n",
    "\n",
    "data"
   ],
   "execution_count":84,
   "outputs":[
    {
     "data":{
      "text\/html":[
       "<div>\n",
       "<style scoped>\n",
       "    .dataframe tbody tr th:only-of-type {\n",
       "        vertical-align: middle;\n",
       "    }\n",
       "\n",
       "    .dataframe tbody tr th {\n",
       "        vertical-align: top;\n",
       "    }\n",
       "\n",
       "    .dataframe thead th {\n",
       "        text-align: right;\n",
       "    }\n",
       "<\/style>\n",
       "<table border=\"1\" class=\"dataframe\">\n",
       "  <thead>\n",
       "    <tr style=\"text-align: right;\">\n",
       "      <th><\/th>\n",
       "      <th>cecha_1<\/th>\n",
       "      <th>cecha_2<\/th>\n",
       "      <th>cecha_3<\/th>\n",
       "      <th>cecha_4<\/th>\n",
       "    <\/tr>\n",
       "  <\/thead>\n",
       "  <tbody>\n",
       "    <tr>\n",
       "      <th>Kraków<\/th>\n",
       "      <td>0<\/td>\n",
       "      <td>1<\/td>\n",
       "      <td>2<\/td>\n",
       "      <td>3<\/td>\n",
       "    <\/tr>\n",
       "    <tr>\n",
       "      <th>Warszawa<\/th>\n",
       "      <td>4<\/td>\n",
       "      <td>5<\/td>\n",
       "      <td>6<\/td>\n",
       "      <td>7<\/td>\n",
       "    <\/tr>\n",
       "    <tr>\n",
       "      <th>Lublin<\/th>\n",
       "      <td>8<\/td>\n",
       "      <td>9<\/td>\n",
       "      <td>10<\/td>\n",
       "      <td>11<\/td>\n",
       "    <\/tr>\n",
       "    <tr>\n",
       "      <th>Katowice<\/th>\n",
       "      <td>12<\/td>\n",
       "      <td>13<\/td>\n",
       "      <td>14<\/td>\n",
       "      <td>15<\/td>\n",
       "    <\/tr>\n",
       "  <\/tbody>\n",
       "<\/table>\n",
       "<\/div>"
      ]
     },
     "metadata":{
      
     },
     "output_type":"display_data"
    }
   ],
   "metadata":{
    "datalore":{
     "node_id":"bxo4xJCjzTlpYg0NgKMzDU",
     "type":"CODE",
     "hide_input_from_viewers":false,
     "hide_output_from_viewers":false
    }
   }
  },
  {
   "cell_type":"code",
   "source":[
    "data['cecha_3']"
   ],
   "execution_count":85,
   "outputs":[
    {
     "data":{
      "text\/html":[
       "<pre>Kraków       2\n",
       "Warszawa     6\n",
       "Lublin      10\n",
       "Katowice    14\n",
       "Name: cecha_3, dtype: int64<\/pre>"
      ]
     },
     "metadata":{
      
     },
     "output_type":"display_data"
    }
   ],
   "metadata":{
    "datalore":{
     "node_id":"ThQXj4PGwTCYxqlORCtWYq",
     "type":"CODE",
     "hide_input_from_viewers":false,
     "hide_output_from_viewers":false
    }
   }
  },
  {
   "cell_type":"code",
   "source":[
    "#wybieranie za pomocą operatorów: loc, iloc\n",
    "\n",
    "data.loc['Kraków',['cecha_1','cecha_4']]"
   ],
   "execution_count":86,
   "outputs":[
    {
     "data":{
      "text\/html":[
       "<pre>cecha_1    0\n",
       "cecha_4    3\n",
       "Name: Kraków, dtype: int64<\/pre>"
      ]
     },
     "metadata":{
      
     },
     "output_type":"display_data"
    }
   ],
   "metadata":{
    "datalore":{
     "node_id":"fUGlgS9kwOh57NGyQLOgBr",
     "type":"CODE",
     "hide_input_from_viewers":false,
     "hide_output_from_viewers":false
    }
   }
  },
  {
   "cell_type":"code",
   "source":[
    "data.iloc[2,[3,0,1]]"
   ],
   "execution_count":87,
   "outputs":[
    {
     "data":{
      "text\/html":[
       "<pre>cecha_4    11\n",
       "cecha_1     8\n",
       "cecha_2     9\n",
       "Name: Lublin, dtype: int64<\/pre>"
      ]
     },
     "metadata":{
      
     },
     "output_type":"display_data"
    }
   ],
   "metadata":{
    "datalore":{
     "node_id":"f6VP4i9a7zo7UdlUIBbHoC",
     "type":"CODE",
     "hide_input_from_viewers":false,
     "hide_output_from_viewers":false
    }
   }
  },
  {
   "cell_type":"code",
   "source":[
    "data.iloc[[1,2],[3,0,1]]"
   ],
   "execution_count":88,
   "outputs":[
    {
     "data":{
      "text\/html":[
       "<div>\n",
       "<style scoped>\n",
       "    .dataframe tbody tr th:only-of-type {\n",
       "        vertical-align: middle;\n",
       "    }\n",
       "\n",
       "    .dataframe tbody tr th {\n",
       "        vertical-align: top;\n",
       "    }\n",
       "\n",
       "    .dataframe thead th {\n",
       "        text-align: right;\n",
       "    }\n",
       "<\/style>\n",
       "<table border=\"1\" class=\"dataframe\">\n",
       "  <thead>\n",
       "    <tr style=\"text-align: right;\">\n",
       "      <th><\/th>\n",
       "      <th>cecha_4<\/th>\n",
       "      <th>cecha_1<\/th>\n",
       "      <th>cecha_2<\/th>\n",
       "    <\/tr>\n",
       "  <\/thead>\n",
       "  <tbody>\n",
       "    <tr>\n",
       "      <th>Warszawa<\/th>\n",
       "      <td>7<\/td>\n",
       "      <td>4<\/td>\n",
       "      <td>5<\/td>\n",
       "    <\/tr>\n",
       "    <tr>\n",
       "      <th>Lublin<\/th>\n",
       "      <td>11<\/td>\n",
       "      <td>8<\/td>\n",
       "      <td>9<\/td>\n",
       "    <\/tr>\n",
       "  <\/tbody>\n",
       "<\/table>\n",
       "<\/div>"
      ]
     },
     "metadata":{
      
     },
     "output_type":"display_data"
    }
   ],
   "metadata":{
    "datalore":{
     "node_id":"vLbIzqEF8hxtPvs49LVTP7",
     "type":"CODE",
     "hide_input_from_viewers":false,
     "hide_output_from_viewers":false
    }
   }
  },
  {
   "cell_type":"code",
   "source":[
    "data.loc[:'Lublin','cecha_3']"
   ],
   "execution_count":89,
   "outputs":[
    {
     "data":{
      "text\/html":[
       "<pre>Kraków       2\n",
       "Warszawa     6\n",
       "Lublin      10\n",
       "Name: cecha_3, dtype: int64<\/pre>"
      ]
     },
     "metadata":{
      
     },
     "output_type":"display_data"
    }
   ],
   "metadata":{
    "datalore":{
     "node_id":"g3TRsf7ZKjgfDIKAYoyPgE",
     "type":"CODE",
     "hide_input_from_viewers":false,
     "hide_output_from_viewers":false
    }
   }
  },
  {
   "cell_type":"code",
   "source":[
    "data.iloc[:,:3][data.cecha_3>10]"
   ],
   "execution_count":91,
   "outputs":[
    {
     "data":{
      "text\/html":[
       "<div>\n",
       "<style scoped>\n",
       "    .dataframe tbody tr th:only-of-type {\n",
       "        vertical-align: middle;\n",
       "    }\n",
       "\n",
       "    .dataframe tbody tr th {\n",
       "        vertical-align: top;\n",
       "    }\n",
       "\n",
       "    .dataframe thead th {\n",
       "        text-align: right;\n",
       "    }\n",
       "<\/style>\n",
       "<table border=\"1\" class=\"dataframe\">\n",
       "  <thead>\n",
       "    <tr style=\"text-align: right;\">\n",
       "      <th><\/th>\n",
       "      <th>cecha_1<\/th>\n",
       "      <th>cecha_2<\/th>\n",
       "      <th>cecha_3<\/th>\n",
       "    <\/tr>\n",
       "  <\/thead>\n",
       "  <tbody>\n",
       "    <tr>\n",
       "      <th>Katowice<\/th>\n",
       "      <td>12<\/td>\n",
       "      <td>13<\/td>\n",
       "      <td>14<\/td>\n",
       "    <\/tr>\n",
       "  <\/tbody>\n",
       "<\/table>\n",
       "<\/div>"
      ]
     },
     "metadata":{
      
     },
     "output_type":"display_data"
    }
   ],
   "metadata":{
    "datalore":{
     "node_id":"yxH8RwnPuN8ubPHrym8HKA",
     "type":"CODE",
     "hide_input_from_viewers":false,
     "hide_output_from_viewers":false
    }
   }
  }
 ],
 "metadata":{
  "kernelspec":{
   "display_name":"Python",
   "language":"python",
   "name":"python"
  },
  "datalore":{
   "version":1,
   "computation_mode":"JUPYTER",
   "package_manager":"pip",
   "base_environment":"default",
   "packages":[
    
   ]
  }
 },
 "nbformat":4,
 "nbformat_minor":4
}